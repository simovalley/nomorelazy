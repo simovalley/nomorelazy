{
  "nbformat": 4,
  "nbformat_minor": 0,
  "metadata": {
    "colab": {
      "provenance": [],
      "authorship_tag": "ABX9TyN1Z8PMUP0dcbDPsMGc8/kh"
    },
    "kernelspec": {
      "name": "python3",
      "display_name": "Python 3"
    },
    "language_info": {
      "name": "python"
    }
  },
  "cells": [
    {
      "cell_type": "code",
      "execution_count": 8,
      "metadata": {
        "colab": {
          "base_uri": "https://localhost:8080/"
        },
        "id": "CMnoi-TexcFW",
        "outputId": "9337b98b-ac39-4f95-a5c0-e7e201c1e52a"
      },
      "outputs": [
        {
          "output_type": "stream",
          "name": "stdout",
          "text": [
            "Would you like to add tasks to your schedule? (Yes/No)yes\n",
            "Please enter a task: eat\n",
            "How often (in number of days) must the task be performed? 2\n",
            "Would you like to add further tasks to your schedule (Yes/No)no\n",
            "Your new task list looks like this: Call your mother  10  2023-05-22\n",
            "Your new task list looks like this: Change the bedsheets  7  2023-04-11\n",
            "Your new task list looks like this: Water the orchid  9  2023-04-11\n",
            "Your new task list looks like this: eat  2  2023-05-24\n",
            "Call your mother  10  2023-05-22\n",
            "Change the bedsheets  7  2023-04-11\n",
            "Water the orchid  9  2023-04-11\n",
            "eat  2  2023-05-24\n",
            "\n",
            "Your task list for today: \n",
            "Change the bedsheets\n",
            "Water the orchid\n",
            "How many tasks would you do today(enter a number)? 1\n",
            "Which task(s) will you perform? Water the orchid\n",
            "\n",
            "Your new schedule looks like this: \n",
            "Call your mother  10  2023-05-22\n",
            "Change the bedsheets  7  2023-04-11\n",
            "Water the orchid  9  2023-05-24\n",
            "eat  2  2023-05-24\n"
          ]
        }
      ],
      "source": [
        "# NOMORELAZY is a programme reminding users of certain tasks that they need to perform regularly:\n",
        "# it comes pre-set with a series of tasks and their corresponding frequencies, but more pairs can be added \n",
        "\n",
        "import datetime  \n",
        "task_bulk = {\"Call your mother\": {\"10\": datetime.date(2023,5,22)}, \n",
        "             \"Change the bedsheets\": {\"7\": datetime.date(2023,4,11)}, \n",
        "             \"Water the orchid\": {\"9\": datetime.date(2023,4,11)}}\n",
        "\n",
        "# Adding a task to the task list\n",
        "question = input(\"Would you like to add any tasks to your schedule? (Yes/No): \")\n",
        "while question.lower() == \"yes\":\n",
        "  task = input(\"Please enter a task: \")\n",
        "  while task in task_bulk:\n",
        "    task = input(\"This task is already in your list! Please enter another: \")\n",
        "  else:\n",
        "    freq = input(\"How often (in number of days) must the task be performed? \")\n",
        "    task_bulk[task] = {freq: datetime.date.today()} #add a new entry in the dictionary and assume the last date on which the task has been perfomred was today\n",
        "  question = input(\"Would you like to add further tasks to your schedule (Yes/No)\")\n",
        "\n",
        "for task in task_bulk.keys(): # looping over the dictionary\n",
        "  for frequency, d in task_bulk[task].items(): \n",
        "    print(f\"{task}  {frequency}  {d}\")\n",
        "\n",
        "todays_tasks = []\n",
        "weekday = datetime.date.today().isoweekday()\n",
        "for task in task_bulk.keys():\n",
        "  for frequency, d in task_bulk[task].items(): \n",
        "    if ((datetime.date.today() - d).days >= int(frequency)) and (weekday < 5): # check that the task is due today\n",
        "      todays_tasks.append(task) # add it to the to do's for today\n",
        "      \n",
        "print()\n",
        "print(\"Your task list for today is: \")\n",
        "for i in range(0, len(todays_tasks)):\n",
        "  print(f\"{todays_tasks[i]}\")\n",
        "\n",
        "feedback = int(input(\"How many tasks will you do today (enter a number)? \"))\n",
        "for i in range(0,feedback):\n",
        "  t = input(\"Which task(s) will you perform? \")\n",
        "  for frequency, d in task_bulk[t].items(): \n",
        "    task_bulk[t] = {frequency: datetime.date.today()} # update the date for this task in the dictionary\n",
        "print()\n",
        "print(\"Your updated schedule looks like this: \")\n",
        "for task in task_bulk.keys(): # looping over the dictionary\n",
        "  for frequency, d in task_bulk[task].items(): \n",
        "    print(f\"{task}  {frequency}  {d}\")\n"
      ]
    }
  ]
}